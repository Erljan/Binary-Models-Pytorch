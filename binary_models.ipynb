{
 "cells": [
  {
   "cell_type": "code",
   "execution_count": 1,
   "metadata": {},
   "outputs": [
    {
     "name": "stdout",
     "output_type": "stream",
     "text": [
      "2.3.1\n"
     ]
    }
   ],
   "source": [
    "import torch\n",
    "import torch.nn as nn\n",
    "\n",
    "\n",
    "print(torch.__version__)"
   ]
  },
  {
   "cell_type": "markdown",
   "metadata": {},
   "source": [
    "# TORCH\n",
    "- Think of this as a toolbox for building and using neural networks\n",
    "\n",
    "#### torch.nn \n",
    "- Think of this as a special part of the toolbox with all the pieces you need to build brain-like models"
   ]
  },
  {
   "cell_type": "markdown",
   "metadata": {},
   "source": [
    "### NN Tools breakdown\n",
    "\n",
    "#### nn.Linear\n",
    "- This layer connects the input to the next layer by performing a math operation\n",
    "\n",
    "#### nn.Sigmoid\n",
    "- This is a function. What this function does is that it squashes the numbers to be between 0 and 1.\n",
    "- This is used to make decisions yes or no/true or false\n",
    "\n",
    "#### nn.Sequential\n",
    "- Think of this like stacking a lego block. Each block is a layer and you put each layer on top of the other in order."
   ]
  },
  {
   "cell_type": "code",
   "execution_count": 8,
   "metadata": {},
   "outputs": [
    {
     "name": "stdout",
     "output_type": "stream",
     "text": [
      "Sequential(\n",
      "  (0): Linear(in_features=3, out_features=2, bias=True)\n",
      "  (1): Linear(in_features=2, out_features=1, bias=True)\n",
      "  (2): Sigmoid()\n",
      ")\n"
     ]
    }
   ],
   "source": [
    "# Neurons/Nodes are like tiny decision makers, in the first layer we have 3 inputs (3 decision maker), then layer 2 has 2 inputs(2 decision maker), then the final output has 1(1 decision maker)\n",
    "\n",
    "\n",
    "model = nn.Sequential(\n",
    "    nn.Linear(3,2), # The 3 is the input, the 2 is then the output\n",
    "    nn.Linear(2,1),\n",
    "    nn.Sigmoid()\n",
    ")\n",
    "\n",
    "print(model)"
   ]
  },
  {
   "cell_type": "markdown",
   "metadata": {},
   "source": [
    "### Create tensors\n",
    "- Tensor is like a list of numbers arrange in a specific way. Think of tensors like it's an array (but it's a multi dimensional array, so like arrays inside an array)"
   ]
  },
  {
   "cell_type": "code",
   "execution_count": null,
   "metadata": {},
   "outputs": [],
   "source": [
    "torch.tensor([\n",
    "    [1. , 1. , 1.] # This creates a tensor with one row and three column all filled with 1.0 (1x3) TENSORS HAVE TO BE FLOATS!! OTHERWISE IT WONT ACCEPT\n",
    "\n",
    "])\n",
    "\n",
    "torch.tensor([\n",
    "    [0.1, 0.2, 0.3],  # This  creates a tensor with 5 rows and 3 columns (5x3)\n",
    "    [0.4, 0.5, 0.6],   # Although since I initialize at the top that it only accepts 3 inputs (3 neurons), if I make each layer to contain 4 neurons, it will be unacceptable\n",
    "    [0.7, 0.8, 0.9],\n",
    "    [1.0, 1.1, 1.2],\n",
    "    [1.3, 1.4, 1.5]\n",
    "])"
   ]
  },
  {
   "cell_type": "markdown",
   "metadata": {},
   "source": [
    "### Feed a Tensor to our Model\n",
    "- Create a tensor with 3 columns and make sure it's a type float"
   ]
  },
  {
   "cell_type": "code",
   "execution_count": null,
   "metadata": {},
   "outputs": [],
   "source": [
    "# Define a tensor for our model\n",
    "input_tensor = torch.tensor([\n",
    "    [0.1, 0.2, 0.3]\n",
    "])\n",
    "\n",
    "#Ensure tensors are float since it cant accepts an integer\n",
    "input_tensor = input_tensor.float()"
   ]
  },
  {
   "cell_type": "markdown",
   "metadata": {},
   "source": [
    "### Build a simple model\n",
    "- nn.Sequential : THis is like stacking blocks in a row one after the other"
   ]
  },
  {
   "cell_type": "code",
   "execution_count": null,
   "metadata": {},
   "outputs": [],
   "source": [
    "# Define the model using sequential\n",
    "model = nn.Sequential(\n",
    "    nn.Linear(3,2), #Input layer to hidden layer\n",
    "    nn.Linear(2,1), #Hidden layer to output layer\n",
    "    nn.Sigmoid() #Activation layer\n",
    ")"
   ]
  }
 ],
 "metadata": {
  "kernelspec": {
   "display_name": "lmenv",
   "language": "python",
   "name": "python3"
  },
  "language_info": {
   "codemirror_mode": {
    "name": "ipython",
    "version": 3
   },
   "file_extension": ".py",
   "mimetype": "text/x-python",
   "name": "python",
   "nbconvert_exporter": "python",
   "pygments_lexer": "ipython3",
   "version": "3.12.3"
  }
 },
 "nbformat": 4,
 "nbformat_minor": 2
}
